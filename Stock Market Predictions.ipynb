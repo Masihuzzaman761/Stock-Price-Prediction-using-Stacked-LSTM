{
 "cells": [
  {
   "cell_type": "markdown",
   "id": "6267815d",
   "metadata": {},
   "source": [
    "<h1>Stock Market Price Prediction</h1>"
   ]
  },
  {
   "cell_type": "markdown",
   "id": "c1052ba9",
   "metadata": {},
   "source": [
    "<h3>Importing the Libraries</h3>"
   ]
  },
  {
   "cell_type": "code",
   "execution_count": 82,
   "id": "79ec4dec",
   "metadata": {},
   "outputs": [],
   "source": [
    "import numpy as np\n",
    "import pandas as pd\n",
    "import matplotlib.pyplot as plt\n",
    "import datetime as dt\n",
    "import pandas_datareader as web"
   ]
  },
  {
   "cell_type": "code",
   "execution_count": 83,
   "id": "d2ef2fe4",
   "metadata": {},
   "outputs": [],
   "source": [
    "from sklearn.preprocessing import MinMaxScaler\n",
    "from tensorflow.keras.models import Sequential\n",
    "from tensorflow.keras.layers import Dense, Dropout, LSTM"
   ]
  },
  {
   "cell_type": "markdown",
   "id": "4fde101d",
   "metadata": {},
   "source": [
    "Loading the Data"
   ]
  },
  {
   "cell_type": "code",
   "execution_count": 84,
   "id": "65f591e7",
   "metadata": {},
   "outputs": [],
   "source": [
    "company ='TCS'"
   ]
  },
  {
   "cell_type": "code",
   "execution_count": 91,
   "id": "0768f2f8",
   "metadata": {},
   "outputs": [],
   "source": [
    "start = dt.datetime(2018,1,1)\n",
    "end = dt.datetime(2022,12,1)"
   ]
  },
  {
   "cell_type": "code",
   "execution_count": 92,
   "id": "f081041e",
   "metadata": {},
   "outputs": [],
   "source": [
    "data = web.DataReader(company, 'yahoo', start, end)"
   ]
  },
  {
   "cell_type": "code",
   "execution_count": 93,
   "id": "f2e76b9c",
   "metadata": {},
   "outputs": [
    {
     "data": {
      "text/html": [
       "<div>\n",
       "<style scoped>\n",
       "    .dataframe tbody tr th:only-of-type {\n",
       "        vertical-align: middle;\n",
       "    }\n",
       "\n",
       "    .dataframe tbody tr th {\n",
       "        vertical-align: top;\n",
       "    }\n",
       "\n",
       "    .dataframe thead th {\n",
       "        text-align: right;\n",
       "    }\n",
       "</style>\n",
       "<table border=\"1\" class=\"dataframe\">\n",
       "  <thead>\n",
       "    <tr style=\"text-align: right;\">\n",
       "      <th></th>\n",
       "      <th>High</th>\n",
       "      <th>Low</th>\n",
       "      <th>Open</th>\n",
       "      <th>Close</th>\n",
       "      <th>Volume</th>\n",
       "      <th>Adj Close</th>\n",
       "    </tr>\n",
       "    <tr>\n",
       "      <th>Date</th>\n",
       "      <th></th>\n",
       "      <th></th>\n",
       "      <th></th>\n",
       "      <th></th>\n",
       "      <th></th>\n",
       "      <th></th>\n",
       "    </tr>\n",
       "  </thead>\n",
       "  <tbody>\n",
       "    <tr>\n",
       "      <th>2022-11-25</th>\n",
       "      <td>4.86</td>\n",
       "      <td>4.71</td>\n",
       "      <td>4.79</td>\n",
       "      <td>4.71</td>\n",
       "      <td>112400.0</td>\n",
       "      <td>4.71</td>\n",
       "    </tr>\n",
       "    <tr>\n",
       "      <th>2022-11-28</th>\n",
       "      <td>4.80</td>\n",
       "      <td>4.60</td>\n",
       "      <td>4.64</td>\n",
       "      <td>4.62</td>\n",
       "      <td>300900.0</td>\n",
       "      <td>4.62</td>\n",
       "    </tr>\n",
       "    <tr>\n",
       "      <th>2022-11-29</th>\n",
       "      <td>4.68</td>\n",
       "      <td>4.58</td>\n",
       "      <td>4.59</td>\n",
       "      <td>4.63</td>\n",
       "      <td>202200.0</td>\n",
       "      <td>4.63</td>\n",
       "    </tr>\n",
       "    <tr>\n",
       "      <th>2022-11-30</th>\n",
       "      <td>4.80</td>\n",
       "      <td>4.61</td>\n",
       "      <td>4.69</td>\n",
       "      <td>4.75</td>\n",
       "      <td>249900.0</td>\n",
       "      <td>4.75</td>\n",
       "    </tr>\n",
       "    <tr>\n",
       "      <th>2022-12-01</th>\n",
       "      <td>4.89</td>\n",
       "      <td>4.74</td>\n",
       "      <td>4.78</td>\n",
       "      <td>4.81</td>\n",
       "      <td>273300.0</td>\n",
       "      <td>4.81</td>\n",
       "    </tr>\n",
       "  </tbody>\n",
       "</table>\n",
       "</div>"
      ],
      "text/plain": [
       "            High   Low  Open  Close    Volume  Adj Close\n",
       "Date                                                    \n",
       "2022-11-25  4.86  4.71  4.79   4.71  112400.0       4.71\n",
       "2022-11-28  4.80  4.60  4.64   4.62  300900.0       4.62\n",
       "2022-11-29  4.68  4.58  4.59   4.63  202200.0       4.63\n",
       "2022-11-30  4.80  4.61  4.69   4.75  249900.0       4.75\n",
       "2022-12-01  4.89  4.74  4.78   4.81  273300.0       4.81"
      ]
     },
     "execution_count": 93,
     "metadata": {},
     "output_type": "execute_result"
    }
   ],
   "source": [
    "data.tail()"
   ]
  },
  {
   "cell_type": "markdown",
   "id": "a2378084",
   "metadata": {},
   "source": [
    "Prepare the Data"
   ]
  },
  {
   "cell_type": "code",
   "execution_count": 66,
   "id": "d5a4c822",
   "metadata": {},
   "outputs": [],
   "source": [
    "scaler = MinMaxScaler(feature_range=(0,1))\n",
    "scaled_data = scaler.fit_transform(data['Close'].values.reshape(-1,1))  \n",
    "\n",
    "prediction_days = 60"
   ]
  },
  {
   "cell_type": "code",
   "execution_count": 67,
   "id": "50e795b2",
   "metadata": {},
   "outputs": [],
   "source": [
    "x_train = []\n",
    "y_train = []\n",
    "\n",
    "for x in range(prediction_days, len(scaled_data)):\n",
    "    x_train.append(scaled_data[x-prediction_days:x, 0])\n",
    "    y_train.append(scaled_data[x, 0])"
   ]
  },
  {
   "cell_type": "code",
   "execution_count": 68,
   "id": "b79dd38e",
   "metadata": {},
   "outputs": [],
   "source": [
    "x_train, y_train = np.array(x_train), np.array(y_train)\n",
    "x_train = np.reshape(x_train, (x_train.shape[0], x_train.shape[1], 1))"
   ]
  },
  {
   "cell_type": "markdown",
   "id": "7db2a519",
   "metadata": {},
   "source": [
    "Build The Model"
   ]
  },
  {
   "cell_type": "code",
   "execution_count": 69,
   "id": "31179547",
   "metadata": {},
   "outputs": [],
   "source": [
    "model = Sequential()\n",
    "\n",
    "model.add(LSTM(units = 50, return_sequences= True, input_shape=(x_train.shape[1], 1)))\n",
    "model.add(Dropout(0.2))\n",
    "model.add(LSTM(units=50, return_sequences=True))\n",
    "model.add(Dropout(0.2))\n",
    "model.add(LSTM(units=50))\n",
    "model.add(Dropout(0.2))\n",
    "model.add(Dense(units = 1)) #prediction of the next closing price"
   ]
  },
  {
   "cell_type": "code",
   "execution_count": 70,
   "id": "cb683adb",
   "metadata": {},
   "outputs": [
    {
     "name": "stdout",
     "output_type": "stream",
     "text": [
      "Epoch 1/25\n",
      "6/6 [==============================] - 9s 76ms/step - loss: 0.0484\n",
      "Epoch 2/25\n",
      "6/6 [==============================] - 0s 63ms/step - loss: 0.0138\n",
      "Epoch 3/25\n",
      "6/6 [==============================] - 0s 67ms/step - loss: 0.0122\n",
      "Epoch 4/25\n",
      "6/6 [==============================] - 0s 62ms/step - loss: 0.0071\n",
      "Epoch 5/25\n",
      "6/6 [==============================] - 0s 64ms/step - loss: 0.0077\n",
      "Epoch 6/25\n",
      "6/6 [==============================] - 0s 67ms/step - loss: 0.0069\n",
      "Epoch 7/25\n",
      "6/6 [==============================] - 0s 64ms/step - loss: 0.0061\n",
      "Epoch 8/25\n",
      "6/6 [==============================] - 0s 64ms/step - loss: 0.0050\n",
      "Epoch 9/25\n",
      "6/6 [==============================] - 0s 68ms/step - loss: 0.0042\n",
      "Epoch 10/25\n",
      "6/6 [==============================] - 0s 66ms/step - loss: 0.0041\n",
      "Epoch 11/25\n",
      "6/6 [==============================] - 0s 69ms/step - loss: 0.0049\n",
      "Epoch 12/25\n",
      "6/6 [==============================] - 0s 67ms/step - loss: 0.0047\n",
      "Epoch 13/25\n",
      "6/6 [==============================] - 0s 68ms/step - loss: 0.0043\n",
      "Epoch 14/25\n",
      "6/6 [==============================] - 0s 66ms/step - loss: 0.0047\n",
      "Epoch 15/25\n",
      "6/6 [==============================] - 0s 66ms/step - loss: 0.0044\n",
      "Epoch 16/25\n",
      "6/6 [==============================] - 0s 67ms/step - loss: 0.0050\n",
      "Epoch 17/25\n",
      "6/6 [==============================] - 0s 69ms/step - loss: 0.0046\n",
      "Epoch 18/25\n",
      "6/6 [==============================] - 0s 66ms/step - loss: 0.0049\n",
      "Epoch 19/25\n",
      "6/6 [==============================] - 0s 67ms/step - loss: 0.0040\n",
      "Epoch 20/25\n",
      "6/6 [==============================] - 0s 68ms/step - loss: 0.0033\n",
      "Epoch 21/25\n",
      "6/6 [==============================] - 0s 66ms/step - loss: 0.0047\n",
      "Epoch 22/25\n",
      "6/6 [==============================] - 0s 64ms/step - loss: 0.0036\n",
      "Epoch 23/25\n",
      "6/6 [==============================] - 0s 68ms/step - loss: 0.0042\n",
      "Epoch 24/25\n",
      "6/6 [==============================] - 0s 66ms/step - loss: 0.0035\n",
      "Epoch 25/25\n",
      "6/6 [==============================] - 0s 63ms/step - loss: 0.0040\n"
     ]
    },
    {
     "data": {
      "text/plain": [
       "<keras.callbacks.History at 0x1e0bab34fa0>"
      ]
     },
     "execution_count": 70,
     "metadata": {},
     "output_type": "execute_result"
    }
   ],
   "source": [
    "model.compile(optimizer='adam', loss='mean_squared_error')\n",
    "\n",
    "#Fitting the model\n",
    "model.fit(x_train, y_train, epochs= 25, batch_size=32)"
   ]
  },
  {
   "cell_type": "markdown",
   "id": "5428294e",
   "metadata": {},
   "source": [
    "Test the model accuracy on existing data"
   ]
  },
  {
   "cell_type": "markdown",
   "id": "e702f8b8",
   "metadata": {},
   "source": [
    "Load Test Data"
   ]
  },
  {
   "cell_type": "code",
   "execution_count": 71,
   "id": "2aec76ad",
   "metadata": {},
   "outputs": [],
   "source": [
    "test_start = dt.datetime(2020,1,1)\n",
    "test_end = dt.datetime.now()\n",
    "\n",
    "test_data = web.DataReader(company, 'yahoo', test_start, test_end)\n",
    "actual_prices = test_data['Close'].values\n",
    "\n",
    "total_dataset= pd.concat((data['Close'], test_data['Close']), axis=0)\n"
   ]
  },
  {
   "cell_type": "code",
   "execution_count": 72,
   "id": "39b80d10",
   "metadata": {},
   "outputs": [],
   "source": [
    "model_inputs = total_dataset[len(total_dataset) - len(test_data-prediction_days):].values\n",
    "model_inputs = model_inputs.reshape(-1, 1)\n",
    "model_inputs = scaler.transform(model_inputs)"
   ]
  },
  {
   "cell_type": "markdown",
   "id": "f8b75084",
   "metadata": {},
   "source": [
    "Make predictions on test data"
   ]
  },
  {
   "cell_type": "code",
   "execution_count": 73,
   "id": "807067d2",
   "metadata": {},
   "outputs": [
    {
     "name": "stdout",
     "output_type": "stream",
     "text": [
      "6/6 [==============================] - 2s 27ms/step\n"
     ]
    }
   ],
   "source": [
    "x_test = []\n",
    "\n",
    "for x in range(prediction_days, len(model_inputs)):\n",
    "    x_test.append(model_inputs[x-prediction_days:x, 0])\n",
    "    \n",
    "x_test = np.array(x_test)\n",
    "x_test = np.reshape(x_test, (x_test.shape[0], x_test.shape[1], 1))\n",
    "\n",
    "predicted_prices = model.predict(x_test)\n",
    "predicted_prices = scaler.inverse_transform(predicted_prices)\n",
    "\n"
   ]
  },
  {
   "cell_type": "markdown",
   "id": "c4993975",
   "metadata": {},
   "source": [
    "Plot the Test Predictions"
   ]
  },
  {
   "cell_type": "code",
   "execution_count": 74,
   "id": "2bdb90b0",
   "metadata": {},
   "outputs": [
    {
     "data": {
      "image/png": "[encoded data removed]",
      "text/plain": [
       "<Figure size 640x480 with 1 Axes>"
      ]
     },
     "metadata": {},
     "output_type": "display_data"
    }
   ],
   "source": [
    "plt.plot(actual_prices, color='black', label=f\"Actual {company}price\")\n",
    "plt.plot(predicted_prices, color='blue',label=f\"Predicted {company}price\")\n",
    "plt.title(f\"{company} share price\")\n",
    "plt.xlabel('Time')\n",
    "plt.ylabel(f\"{company} share price\")\n",
    "plt.legend()\n",
    "\n",
    "plt.show()"
   ]
  },
  {
   "cell_type": "markdown",
   "id": "a9cd4e7f",
   "metadata": {},
   "source": [
    "Predict the next day  stock price"
   ]
  },
  {
   "cell_type": "code",
   "execution_count": 75,
   "id": "56d8f4d0",
   "metadata": {},
   "outputs": [
    {
     "name": "stdout",
     "output_type": "stream",
     "text": [
      "1/1 [==============================] - 2s 2s/step\n",
      "Prediction:[[105.018585]]\n"
     ]
    }
   ],
   "source": [
    "real_data = [model_inputs[len(model_inputs) + 1 - prediction_days:len(model_inputs + 1), 0 ]]\n",
    "real_data = np.array(real_data)\n",
    "real_data = np.reshape(real_data, (real_data.shape[0], real_data.shape[1], 1))\n",
    "\n",
    "prediction = model.predict(real_data)\n",
    "prediction = scaler.inverse_transform(prediction)\n",
    "\n",
    "print(f\"Prediction:{prediction}\")"
   ]
  },
  {
   "cell_type": "code",
   "execution_count": null,
   "id": "32c0787a",
   "metadata": {},
   "outputs": [],
   "source": []
  }
 ],
 "metadata": {
  "kernelspec": {
   "display_name": "Python 3 (ipykernel)",
   "language": "python",
   "name": "python3"
  },
  "language_info": {
   "codemirror_mode": {
    "name": "ipython",
    "version": 3
   },
   "file_extension": ".py",
   "mimetype": "text/x-python",
   "name": "python",
   "nbconvert_exporter": "python",
   "pygments_lexer": "ipython3",
   "version": "3.9.13"
  }
 },
 "nbformat": 4,
 "nbformat_minor": 5
}
